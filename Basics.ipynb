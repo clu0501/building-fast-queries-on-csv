{
 "cells": [
  {
   "cell_type": "markdown",
   "metadata": {},
   "source": [
    "# Building Fast Queries On a CSV"
   ]
  },
  {
   "cell_type": "markdown",
   "metadata": {},
   "source": [
    "In this project, we are given a csv containing laptop data:\n",
    "\n",
    "**ID:** A unique identifier for the laptop.  \n",
    "**Company:** The name of the company that produces the laptop.  \n",
    "**Product:** The name of the laptop.  \n",
    "**TypeName:** The type of laptop.  \n",
    "**Inches:** The size of the screen in inches.  \n",
    "**ScreenResolution:** The resolution of the screen.  \n",
    "**CPU**: The laptop CPU.  \n",
    "**RAM**: The amount of RAM in the laptop.  \n",
    "**Memory**: The size of the hard drive.  \n",
    "**GPU**: The graphics card name.  \n",
    "**OpSys**: The name of the operating system.  \n",
    "**Weight**: The laptop weight.  \n",
    "**Price**: The price of the laptop.  \n",
    "\n",
    "We want to build a way to answer certain questions about our laptop inventory in an efficient manner."
   ]
  },
  {
   "cell_type": "markdown",
   "metadata": {},
   "source": [
    "## Objectives\n",
    "1. Analyze the time and space complexity of an algorithm.\n",
    "2. Preprocesse data to significantly speed-up an algorithm.\n",
    "3. Sort data and efficiently search sorted data."
   ]
  },
  {
   "cell_type": "markdown",
   "metadata": {},
   "source": [
    "## The Dataset"
   ]
  },
  {
   "cell_type": "code",
   "execution_count": 1,
   "metadata": {},
   "outputs": [],
   "source": [
    "import csv\n",
    "import time\n",
    "import random"
   ]
  },
  {
   "cell_type": "code",
   "execution_count": 2,
   "metadata": {},
   "outputs": [
    {
     "name": "stdout",
     "output_type": "stream",
     "text": [
      "Header is: ['Id', 'Company', 'Product', 'TypeName', 'Inches', 'ScreenResolution', 'Cpu', 'Ram', 'Memory', 'Gpu', 'OpSys', 'Weight', 'Price']\n",
      "\n",
      "\n",
      "First five rows: [['6571244', 'Apple', 'MacBook Pro', 'Ultrabook', '13.3', 'IPS Panel Retina Display 2560x1600', 'Intel Core i5 2.3GHz', '8GB', '128GB SSD', 'Intel Iris Plus Graphics 640', 'macOS', '1.37kg', '1339'], ['7287764', 'Apple', 'Macbook Air', 'Ultrabook', '13.3', '1440x900', 'Intel Core i5 1.8GHz', '8GB', '128GB Flash Storage', 'Intel HD Graphics 6000', 'macOS', '1.34kg', '898'], ['3362737', 'HP', '250 G6', 'Notebook', '15.6', 'Full HD 1920x1080', 'Intel Core i5 7200U 2.5GHz', '8GB', '256GB SSD', 'Intel HD Graphics 620', 'No OS', '1.86kg', '575'], ['9722156', 'Apple', 'MacBook Pro', 'Ultrabook', '15.4', 'IPS Panel Retina Display 2880x1800', 'Intel Core i7 2.7GHz', '16GB', '512GB SSD', 'AMD Radeon Pro 455', 'macOS', '1.83kg', '2537'], ['8550527', 'Apple', 'MacBook Pro', 'Ultrabook', '13.3', 'IPS Panel Retina Display 2560x1600', 'Intel Core i5 3.1GHz', '8GB', '256GB SSD', 'Intel Iris Plus Graphics 650', 'macOS', '1.37kg', '1803']]\n"
     ]
    }
   ],
   "source": [
    "with open(\"laptops.csv\") as file:\n",
    "    file_contents = list(csv.reader(file))\n",
    "    header = file_contents[0]\n",
    "    rows = file_contents[1:]\n",
    "\n",
    "print(\"Header is:\", header)\n",
    "print(\"\\n\")\n",
    "print(\"First five rows:\", rows[:5])"
   ]
  },
  {
   "cell_type": "markdown",
   "metadata": {},
   "source": [
    "## Inventory Class"
   ]
  },
  {
   "cell_type": "code",
   "execution_count": 3,
   "metadata": {},
   "outputs": [
    {
     "name": "stdout",
     "output_type": "stream",
     "text": [
      "Laptop Inventory Header: ['Id', 'Company', 'Product', 'TypeName', 'Inches', 'ScreenResolution', 'Cpu', 'Ram', 'Memory', 'Gpu', 'OpSys', 'Weight', 'Price']\n",
      "\n",
      "\n",
      "Number of rows in Inventory: 1303\n"
     ]
    }
   ],
   "source": [
    "class Inventory():\n",
    "    def __init__(self, csv_filename):\n",
    "        with open(csv_filename) as file:\n",
    "            file_contents = list(csv.reader(file))\n",
    "            \n",
    "        self.header = file_contents[0]\n",
    "        self.rows = file_contents[1:]\n",
    "        \n",
    "        for row in self.rows:\n",
    "            row[-1] = int(row[-1])\n",
    "            \n",
    "# Testing Inventory Class\n",
    "laptop_inventory = Inventory('laptops.csv')\n",
    "print(\"Laptop Inventory Header:\", laptop_inventory.header)\n",
    "print(\"\\n\")\n",
    "print(\"Number of rows in Inventory:\", len(laptop_inventory.rows))"
   ]
  },
  {
   "cell_type": "markdown",
   "metadata": {},
   "source": [
    "## Finding a Laptop From the Id"
   ]
  },
  {
   "cell_type": "markdown",
   "metadata": {},
   "source": [
    "The first thing that we will implement is a way to look up a laptop from a given identifier. In this way, when a customer comes to our store with a purchase slip, we can quickly identify the laptop to which it corresponds."
   ]
  },
  {
   "cell_type": "code",
   "execution_count": 4,
   "metadata": {},
   "outputs": [
    {
     "name": "stdout",
     "output_type": "stream",
     "text": [
      "['3362737', 'HP', '250 G6', 'Notebook', '15.6', 'Full HD 1920x1080', 'Intel Core i5 7200U 2.5GHz', '8GB', '256GB SSD', 'Intel HD Graphics 620', 'No OS', '1.86kg', 575]\n",
      "None\n"
     ]
    }
   ],
   "source": [
    "class Inventory():\n",
    "    def __init__(self, csv_filename):\n",
    "        with open(csv_filename) as file:\n",
    "            file_contents = list(csv.reader(file))\n",
    "            \n",
    "        self.header = file_contents[0]\n",
    "        self.rows = file_contents[1:]\n",
    "        \n",
    "        for row in self.rows:\n",
    "            row[-1] = int(row[-1])\n",
    "    \n",
    "    def get_laptop_id(self, laptop_id):\n",
    "        for row in self.rows:\n",
    "            if row[0] == laptop_id:\n",
    "                return row\n",
    "        return None\n",
    "    \n",
    "# Testing get_laptop_id function\n",
    "laptop_inventory = Inventory('laptops.csv')\n",
    "print(laptop_inventory.get_laptop_id('3362737')) # This should find a laptop\n",
    "print(laptop_inventory.get_laptop_id('3362736')) # This should not find a laptop"
   ]
  },
  {
   "cell_type": "markdown",
   "metadata": {},
   "source": [
    "## Improving ID Lookups"
   ]
  },
  {
   "cell_type": "markdown",
   "metadata": {},
   "source": [
    "The idea for this optimization is to preprocess the data into a dictionary where the keys are the IDs and the values are the rows. This will give us constant time lookups in cases where we want to find a row(s) that has a certain ID.\n",
    "\n",
    "We will continue to copy and paste each iteration of the Inventory class so we can keep track of our changes."
   ]
  },
  {
   "cell_type": "code",
   "execution_count": 5,
   "metadata": {},
   "outputs": [
    {
     "name": "stdout",
     "output_type": "stream",
     "text": [
      "['3362737', 'HP', '250 G6', 'Notebook', '15.6', 'Full HD 1920x1080', 'Intel Core i5 7200U 2.5GHz', '8GB', '256GB SSD', 'Intel HD Graphics 620', 'No OS', '1.86kg', 575]\n",
      "None\n"
     ]
    }
   ],
   "source": [
    "class Inventory():\n",
    "    def __init__(self, csv_filename):\n",
    "        with open(csv_filename) as file:\n",
    "            file_contents = list(csv.reader(file))\n",
    "            \n",
    "        self.header = file_contents[0]\n",
    "        self.rows = file_contents[1:]\n",
    "        self.id_to_row = {}\n",
    "        \n",
    "        for row in self.rows:\n",
    "            row[-1] = int(row[-1])\n",
    "            self.id_to_row[row[0]] = row\n",
    "            \n",
    "    def get_laptop_id(self, laptop_id):\n",
    "        for row in self.rows:\n",
    "            if row[0] == laptop_id:\n",
    "                return row\n",
    "        return None\n",
    "    \n",
    "    def get_laptop_from_id_fast(self, laptop_id):\n",
    "        if laptop_id in self.id_to_row:\n",
    "            return self.id_to_row[laptop_id]\n",
    "        return None\n",
    "    \n",
    "# Testing get_laptop_id function\n",
    "laptop_inventory = Inventory('laptops.csv')\n",
    "print(laptop_inventory.get_laptop_from_id_fast('3362737')) # This should find a laptop\n",
    "print(laptop_inventory.get_laptop_from_id_fast('3362736')) # This should not find a laptop"
   ]
  },
  {
   "cell_type": "markdown",
   "metadata": {},
   "source": [
    "## Comparing the Performance"
   ]
  },
  {
   "cell_type": "markdown",
   "metadata": {},
   "source": [
    "Let's compare the performance of both methods. We will generate some random IDs, then use each method to lookup these same IDs."
   ]
  },
  {
   "cell_type": "code",
   "execution_count": 6,
   "metadata": {},
   "outputs": [
    {
     "name": "stdout",
     "output_type": "stream",
     "text": [
      "Total time elapsed when using get_laptop_id: 0.7025125026702881\n",
      "Total time elapsed when using get_laptop_from_id_fast: 0.0028009414672851562\n"
     ]
    }
   ],
   "source": [
    "ids = [str(random.randint(1000000, 9999999)) for _ in range(10000)]\n",
    "laptop_inventory = Inventory('laptops.csv')\n",
    "total_time_no_dict = 0\n",
    "for laptop_id in ids:\n",
    "    start = time.time()\n",
    "    laptop_inventory.get_laptop_id(laptop_id)\n",
    "    end = time.time()\n",
    "    total_time_no_dict += end - start\n",
    "    \n",
    "total_time_dict = 0\n",
    "for laptop_id in ids:\n",
    "    start = time.time()\n",
    "    laptop_inventory.get_laptop_from_id_fast(laptop_id)\n",
    "    end = time.time()\n",
    "    total_time_dict += end - start\n",
    "    \n",
    "print(\"Total time elapsed when using get_laptop_id:\", total_time_no_dict)\n",
    "print(\"Total time elapsed when using get_laptop_from_id_fast:\", total_time_dict)"
   ]
  },
  {
   "cell_type": "markdown",
   "metadata": {},
   "source": [
    "As we can see above, get_laptop_from_id_fast, which uses the data preprocessed into a dictionary, is about 271 times faster!"
   ]
  },
  {
   "cell_type": "markdown",
   "metadata": {},
   "source": [
    "## Two Laptop Promotion"
   ]
  },
  {
   "cell_type": "markdown",
   "metadata": {},
   "source": [
    "Let's say that there is a promotional gift card that allows a customer to buy up to 2 laptops. The catch to this gift card is that it can only be used once. Even if the customer uses the gift card and there is money left over, the customer can no longer use the gift card.\n",
    "\n",
    "In order to make the customer feel like they are not being cheated, we want to make sure there is either one laptop that costs D (the amount of money on the gift card) dollars, or 2 laptops that add up to exactly D dollars.\n",
    "\n",
    "We will implement this function now."
   ]
  },
  {
   "cell_type": "code",
   "execution_count": 7,
   "metadata": {},
   "outputs": [
    {
     "name": "stdout",
     "output_type": "stream",
     "text": [
      "True\n",
      "False\n"
     ]
    }
   ],
   "source": [
    "class Inventory():\n",
    "    def __init__(self, csv_filename):\n",
    "        with open(csv_filename) as file:\n",
    "            file_contents = list(csv.reader(file))\n",
    "            \n",
    "        self.header = file_contents[0]\n",
    "        self.rows = file_contents[1:]\n",
    "        self.id_to_row = {}\n",
    "        \n",
    "        for row in self.rows:\n",
    "            row[-1] = int(row[-1])\n",
    "            self.id_to_row[row[0]] = row\n",
    "            \n",
    "    def get_laptop_id(self, laptop_id):\n",
    "        for row in self.rows:\n",
    "            if row[0] == laptop_id:\n",
    "                return row\n",
    "        return None\n",
    "    \n",
    "    def get_laptop_from_id_fast(self, laptop_id):\n",
    "        if laptop_id in self.id_to_row:\n",
    "            return self.id_to_row[laptop_id]\n",
    "        return None\n",
    "    \n",
    "    def check_promotion_dollars(self, dollars):\n",
    "        for row in self.rows:\n",
    "            if row[-1] == dollars:\n",
    "                return True\n",
    "        \n",
    "        for row_outside in self.rows:\n",
    "            for row_inside in self.rows:\n",
    "                if row_outside[-1] + row_inside[-1] == dollars:\n",
    "                    return True\n",
    "        \n",
    "        return False\n",
    "    \n",
    "laptop_inventory = Inventory('laptops.csv')\n",
    "print(laptop_inventory.check_promotion_dollars(1000)) # This should be True\n",
    "print(laptop_inventory.check_promotion_dollars(442)) # This should be False"
   ]
  },
  {
   "cell_type": "markdown",
   "metadata": {},
   "source": [
    "## Optimizing Laptop Promotion"
   ]
  },
  {
   "cell_type": "markdown",
   "metadata": {},
   "source": [
    "We've learned that preprocessing data can help run these types of queries faster. We only care about whether or not there is a solution, so let's store the laptop prices in a set. Set's provide us with constant time lookup.\n",
    "\n",
    "We can use the following logic to determine whether or not a pair of laptops add up to the gift card dollar amount:\n",
    "Laptop_1 + Laptop_2 = Total\n",
    "Laptop_1 = Total - Laptop_2\n",
    "OR\n",
    "Laptop_2 = Total - Laptop_1\n",
    "\n",
    "We can subtract the giftcard amount (the provided dollar amount in our check_promotion function) with an existing value in the set and see if the difference is in the set."
   ]
  },
  {
   "cell_type": "code",
   "execution_count": 8,
   "metadata": {},
   "outputs": [
    {
     "name": "stdout",
     "output_type": "stream",
     "text": [
      "True\n",
      "False\n"
     ]
    }
   ],
   "source": [
    "class Inventory():\n",
    "    def __init__(self, csv_filename):\n",
    "        with open(csv_filename) as file:\n",
    "            file_contents = list(csv.reader(file))\n",
    "            \n",
    "        self.header = file_contents[0]\n",
    "        self.rows = file_contents[1:]\n",
    "        self.id_to_row = {}\n",
    "        self.prices = set()\n",
    "        \n",
    "        for row in self.rows:\n",
    "            row[-1] = int(row[-1])\n",
    "            self.id_to_row[row[0]] = row\n",
    "            self.prices.add(row[-1])\n",
    "            \n",
    "    # Runtime: O(N) where N is length of self.rows\n",
    "    def get_laptop_id(self, laptop_id):\n",
    "        for row in self.rows:\n",
    "            if row[0] == laptop_id:\n",
    "                return row\n",
    "        return None\n",
    "    \n",
    "    # Runtime: O(1) because dictionaries give us constant lookup time when provided with a key\n",
    "    def get_laptop_from_id_fast(self, laptop_id):\n",
    "        if laptop_id in self.id_to_row:\n",
    "            return self.id_to_row[laptop_id]\n",
    "        return None\n",
    "    \n",
    "    # Runtime: O(N^2) where N is length of self.rows\n",
    "    def check_promotion_dollars(self, dollars):\n",
    "        for row in self.rows:\n",
    "            if row[-1] == dollars:\n",
    "                return True\n",
    "        \n",
    "        for row_outside in self.rows:\n",
    "            for row_inside in self.rows:\n",
    "                if row_outside[-1] + row_inside[-1] == dollars:\n",
    "                    return True\n",
    "        \n",
    "        return False\n",
    "    \n",
    "    # Runtime: O(N) where N is length of self.prices\n",
    "    def check_promotion_dollars_fast(self, dollars):\n",
    "        if dollars in self.prices:\n",
    "            return True\n",
    "        \n",
    "        for price in self.prices:\n",
    "            if (dollars - price) in self.prices:\n",
    "                return True\n",
    "        \n",
    "        return False\n",
    "    \n",
    "laptop_inventory = Inventory('laptops.csv')\n",
    "print(laptop_inventory.check_promotion_dollars_fast(1000)) # This should be True\n",
    "print(laptop_inventory.check_promotion_dollars_fast(442)) # This should be False"
   ]
  },
  {
   "cell_type": "markdown",
   "metadata": {},
   "source": [
    "## Comparing Performance of Laptop Promotion Function"
   ]
  },
  {
   "cell_type": "code",
   "execution_count": 9,
   "metadata": {},
   "outputs": [
    {
     "name": "stdout",
     "output_type": "stream",
     "text": [
      "Total calculation time when using no set: 0.602515697479248\n",
      "Total calculation time when using set: 0.0003750324249267578\n"
     ]
    }
   ],
   "source": [
    "prices = [random.randint(100, 5000) for _ in range(100)]\n",
    "laptop_inventory = Inventory('laptops.csv')\n",
    "total_time_no_set = 0\n",
    "for price in prices:\n",
    "    start = time.time()\n",
    "    laptop_inventory.check_promotion_dollars(price)\n",
    "    end = time.time()\n",
    "    total_time_no_set += end - start\n",
    "\n",
    "total_time_set = 0\n",
    "for price in prices:\n",
    "    start = time.time()\n",
    "    laptop_inventory.check_promotion_dollars_fast(price)\n",
    "    end = time.time()\n",
    "    total_time_set += end - start\n",
    "    \n",
    "print(\"Total calculation time when using no set:\", total_time_no_set)\n",
    "print(\"Total calculation time when using set:\", total_time_set)"
   ]
  },
  {
   "cell_type": "markdown",
   "metadata": {},
   "source": [
    "As we can see, preprocessing the prices into a set makes finding matching promotions over 2000 times faster!"
   ]
  },
  {
   "cell_type": "markdown",
   "metadata": {},
   "source": [
    "## Finding Laptops Within a Budget"
   ]
  },
  {
   "cell_type": "markdown",
   "metadata": {},
   "source": [
    "Let's write a method that helps a customer find all laptops that fall within their budget. Given a budget of D dollars, find all laptops whose price is at most D.\n",
    "\n",
    "We can do this efficiently by sorting all laptops by price, then using binary search to identify the first laptop in the sorted list with a price larger than D. From there, any laptop with index less than the one we found will fall within the customer's budget."
   ]
  },
  {
   "cell_type": "code",
   "execution_count": 10,
   "metadata": {},
   "outputs": [
    {
     "name": "stdout",
     "output_type": "stream",
     "text": [
      "683\n",
      "-1\n"
     ]
    }
   ],
   "source": [
    "class Inventory():\n",
    "    def __init__(self, csv_filename):\n",
    "        with open(csv_filename) as file:\n",
    "            file_contents = list(csv.reader(file))\n",
    "            \n",
    "        self.header = file_contents[0]\n",
    "        self.rows = file_contents[1:]\n",
    "        self.id_to_row = {}\n",
    "        self.prices = set()\n",
    "        \n",
    "        for row in self.rows:\n",
    "            row[-1] = int(row[-1])\n",
    "            self.id_to_row[row[0]] = row\n",
    "            self.prices.add(row[-1])\n",
    "        \n",
    "        def row_price(row):\n",
    "            return row[-1]\n",
    "            \n",
    "        self.rows_by_price = sorted(self.rows, key=row_price)\n",
    "    \n",
    "    # Runtime: O(N) where N is length of self.rows\n",
    "    def get_laptop_id(self, laptop_id):\n",
    "        for row in self.rows:\n",
    "            if row[0] == laptop_id:\n",
    "                return row\n",
    "        return None\n",
    "    \n",
    "    # Runtime: O(1) because dictionaries give us constant lookup time when provided with a key\n",
    "    def get_laptop_from_id_fast(self, laptop_id):\n",
    "        if laptop_id in self.id_to_row:\n",
    "            return self.id_to_row[laptop_id]\n",
    "        return None\n",
    "    \n",
    "    # Runtime: O(N^2) where N is length of self.rows\n",
    "    def check_promotion_dollars(self, dollars):\n",
    "        for row in self.rows:\n",
    "            if row[-1] == dollars:\n",
    "                return True\n",
    "        \n",
    "        for row_outside in self.rows:\n",
    "            for row_inside in self.rows:\n",
    "                if row_outside[-1] + row_inside[-1] == dollars:\n",
    "                    return True\n",
    "        \n",
    "        return False\n",
    "    \n",
    "    # Runtime: O(N) where N is length of self.prices\n",
    "    def check_promotion_dollars_fast(self, dollars):\n",
    "        if dollars in self.prices:\n",
    "            return True\n",
    "        \n",
    "        for price in self.prices:\n",
    "            if (dollars - price) in self.prices:\n",
    "                return True\n",
    "        \n",
    "        return False\n",
    "    \n",
    "    def find_first_laptop_more_expensive(self, price):\n",
    "        low = 0\n",
    "        high = len(self.rows_by_price) - 1\n",
    "        \n",
    "        if self.rows_by_price[-1][-1] <= price:\n",
    "            return -1\n",
    "        \n",
    "        if self.rows_by_price[0][-1] > price:\n",
    "            return 0\n",
    "        \n",
    "        while low < high:\n",
    "            current_index = (low + high) // 2\n",
    "            current_row = self.rows_by_price[current_index]\n",
    "            current_price = current_row[-1]\n",
    "            if current_price <= price:\n",
    "                low = current_index + 1\n",
    "            elif current_price > price:\n",
    "                high = current_index\n",
    "        \n",
    "        return high\n",
    "    \n",
    "laptop_inventory = Inventory('laptops.csv')\n",
    "print(laptop_inventory.find_first_laptop_more_expensive(1000)) # Should return index 683\n",
    "print(laptop_inventory.find_first_laptop_more_expensive(10000)) # Should return index -1"
   ]
  },
  {
   "cell_type": "markdown",
   "metadata": {},
   "source": [
    "The above indicates that if the customer's budget is 1,000 dollars, there are 683 laptops the customer can afford. If the customer's budget is 10,000 dollars, there are no laptops the customer cannot afford."
   ]
  },
  {
   "cell_type": "markdown",
   "metadata": {},
   "source": [
    "## Further Queries"
   ]
  },
  {
   "cell_type": "markdown",
   "metadata": {},
   "source": [
    "Now let's try and answer the following queries:\n",
    "\n",
    "1. Imagine that we extend our budget query to take as input a range of prices, min_price and max_price, rather than a single price. Write a query that finds all laptops whose price is in the given range.\n",
    "\n",
    "2. Sometimes, a customer wants a laptop with some characteristics such as, for instance, 8GB or RAM and a 256GB hard drive. It would be interesting for those customers to provide a way to find the cheapest laptop that matches the desired characteristics. For simplicity, focus only on the amount of RAM and hard drive capacity. You might need to convert those values to integers rather than using strings."
   ]
  },
  {
   "cell_type": "markdown",
   "metadata": {},
   "source": [
    "For the first query, we can use find_first_laptop_more_expensive on max_price, and we can write a similar find_first_laptop_less_expensive helper function and use it on min_price."
   ]
  },
  {
   "cell_type": "code",
   "execution_count": 17,
   "metadata": {},
   "outputs": [
    {
     "name": "stdout",
     "output_type": "stream",
     "text": [
      "Index of first laptop cheaper than $500: 244\n",
      "Index of first laptop more expensive than $1500: 999\n",
      "Checking the laptop prices around cheapest laptop index:\n",
      "Index 243: 499\n",
      "Index 244: 499\n",
      "Index 245: 500\n",
      "Checking the laptop prices around most expensive laptop index:\n",
      "Index 998: 1500\n",
      "Index 999: 1504\n",
      "Index 1000: 1510\n"
     ]
    }
   ],
   "source": [
    "class Inventory():\n",
    "    def __init__(self, csv_filename):\n",
    "        with open(csv_filename) as file:\n",
    "            file_contents = list(csv.reader(file))\n",
    "            \n",
    "        self.header = file_contents[0]\n",
    "        self.rows = file_contents[1:]\n",
    "        self.id_to_row = {}\n",
    "        self.prices = set()\n",
    "        \n",
    "        for row in self.rows:\n",
    "            row[-1] = int(row[-1])\n",
    "            self.id_to_row[row[0]] = row\n",
    "            self.prices.add(row[-1])\n",
    "        \n",
    "        def row_price(row):\n",
    "            return row[-1]\n",
    "            \n",
    "        self.rows_by_price = sorted(self.rows, key=row_price)\n",
    "    \n",
    "    # Runtime: O(N) where N is length of self.rows\n",
    "    def get_laptop_id(self, laptop_id):\n",
    "        for row in self.rows:\n",
    "            if row[0] == laptop_id:\n",
    "                return row\n",
    "        return None\n",
    "    \n",
    "    # Runtime: O(1) because dictionaries give us constant lookup time when provided with a key\n",
    "    def get_laptop_from_id_fast(self, laptop_id):\n",
    "        if laptop_id in self.id_to_row:\n",
    "            return self.id_to_row[laptop_id]\n",
    "        return None\n",
    "    \n",
    "    # Runtime: O(N^2) where N is length of self.rows\n",
    "    def check_promotion_dollars(self, dollars):\n",
    "        for row in self.rows:\n",
    "            if row[-1] == dollars:\n",
    "                return True\n",
    "        \n",
    "        for row_outside in self.rows:\n",
    "            for row_inside in self.rows:\n",
    "                if row_outside[-1] + row_inside[-1] == dollars:\n",
    "                    return True\n",
    "        \n",
    "        return False\n",
    "    \n",
    "    # Runtime: O(N) where N is length of self.prices\n",
    "    def check_promotion_dollars_fast(self, dollars):\n",
    "        if dollars in self.prices:\n",
    "            return True\n",
    "        \n",
    "        for price in self.prices:\n",
    "            if (dollars - price) in self.prices:\n",
    "                return True\n",
    "        \n",
    "        return False\n",
    "    \n",
    "    def find_first_laptop_more_expensive(self, price):\n",
    "        low = 0\n",
    "        high = len(self.rows_by_price) - 1\n",
    "        \n",
    "        if self.rows_by_price[-1][-1] <= price:\n",
    "            return -1\n",
    "        \n",
    "        if self.rows_by_price[0][-1] > price:\n",
    "            return 0\n",
    "        \n",
    "        while low < high:\n",
    "            current_index = (low + high) // 2\n",
    "            current_row = self.rows_by_price[current_index]\n",
    "            current_price = current_row[-1]\n",
    "            if current_price <= price:\n",
    "                low = current_index + 1\n",
    "            elif current_price > price:\n",
    "                high = current_index\n",
    "        \n",
    "        return high\n",
    "    \n",
    "    def find_first_laptop_less_expensive(self, price):\n",
    "        low = 0\n",
    "        high = len(self.rows_by_price) - 1\n",
    "        \n",
    "        if self.rows_by_price[0][-1] >= price:\n",
    "            return -1\n",
    "        \n",
    "        if self.rows_by_price[-1][-1] < price:\n",
    "            return len(self.rows_by_price) - 1\n",
    "        \n",
    "        while low < high:\n",
    "            current_index = (low + high) // 2\n",
    "            current_row = self.rows_by_price[current_index]\n",
    "            current_price = current_row[-1]\n",
    "            if current_price < price:\n",
    "                low = current_index\n",
    "            elif current_price >= price:\n",
    "                high = current_index - 1\n",
    "                \n",
    "        return high\n",
    "    \n",
    "    # Returns a tuple (low, high)\n",
    "    # low corresponds to the index of the first laptop that is cheaper than min_price.\n",
    "    # high corresponds to the index of the first laptop that is more expensive than max_price.\n",
    "    def find_laptops_within_price_range(self, min_price, max_price):\n",
    "        low = self.find_first_laptop_less_expensive(min_price)\n",
    "        high = self.find_first_laptop_more_expensive(max_price)\n",
    "        return low, high\n",
    "        \n",
    "laptop_inventory = Inventory('laptops.csv')\n",
    "low_index, high_index = laptop_inventory.find_laptops_within_price_range(500, 1500)\n",
    "print(\"Index of first laptop cheaper than $500:\", low_index)\n",
    "print(\"Index of first laptop more expensive than $1500:\", high_index)\n",
    "print(\"Checking the laptop prices around cheapest laptop index:\")\n",
    "print(\"Index \" + str(low_index - 1) + \": \" + str(laptop_inventory.rows_by_price[low_index - 1][-1]))\n",
    "print(\"Index \" + str(low_index) + \": \" + str(laptop_inventory.rows_by_price[low_index][-1]))\n",
    "print(\"Index \" + str(low_index + 1) + \": \" + str(laptop_inventory.rows_by_price[low_index + 1][-1]))\n",
    "print(\"Checking the laptop prices around most expensive laptop index:\")\n",
    "print(\"Index \" + str(high_index - 1) + \": \" + str(laptop_inventory.rows_by_price[high_index - 1][-1]))\n",
    "print(\"Index \" + str(high_index) + \": \" + str(laptop_inventory.rows_by_price[high_index][-1]))\n",
    "print(\"Index \" + str(high_index + 1) + \": \" + str(laptop_inventory.rows_by_price[high_index + 1][-1]))"
   ]
  },
  {
   "cell_type": "markdown",
   "metadata": {},
   "source": [
    "For the 2nd query, we could filter laptop data by the provided memory and hard drive amounts and return the laptop at index 0 (or None if no laptops match the description). We can use the existing sorted laptop list so that the laptop at index 0 will be the cheapest one."
   ]
  },
  {
   "cell_type": "code",
   "execution_count": 20,
   "metadata": {},
   "outputs": [
    {
     "name": "stdout",
     "output_type": "stream",
     "text": [
      "['2618101', 'Acer', 'ES1-523-84K7 (A8-7410/8GB/256GB/FHD/W10)', 'Notebook', '15.6', 'Full HD 1920x1080', 'AMD A8-Series 7410 2.2GHz', '8GB', '256GB SSD', 'AMD Radeon R5', 'Windows 10', '2.23kg', 469]\n"
     ]
    }
   ],
   "source": [
    "class Inventory():\n",
    "    def __init__(self, csv_filename):\n",
    "        with open(csv_filename) as file:\n",
    "            file_contents = list(csv.reader(file))\n",
    "            \n",
    "        self.header = file_contents[0]\n",
    "        self.rows = file_contents[1:]\n",
    "        self.id_to_row = {}\n",
    "        self.prices = set()\n",
    "        \n",
    "        for row in self.rows:\n",
    "            row[-1] = int(row[-1])\n",
    "            self.id_to_row[row[0]] = row\n",
    "            self.prices.add(row[-1])\n",
    "        \n",
    "        def row_price(row):\n",
    "            return row[-1]\n",
    "            \n",
    "        self.rows_by_price = sorted(self.rows, key=row_price)\n",
    "    \n",
    "    # Runtime: O(N) where N is length of self.rows\n",
    "    def get_laptop_id(self, laptop_id):\n",
    "        for row in self.rows:\n",
    "            if row[0] == laptop_id:\n",
    "                return row\n",
    "        return None\n",
    "    \n",
    "    # Runtime: O(1) because dictionaries give us constant lookup time when provided with a key\n",
    "    def get_laptop_from_id_fast(self, laptop_id):\n",
    "        if laptop_id in self.id_to_row:\n",
    "            return self.id_to_row[laptop_id]\n",
    "        return None\n",
    "    \n",
    "    # Runtime: O(N^2) where N is length of self.rows\n",
    "    def check_promotion_dollars(self, dollars):\n",
    "        for row in self.rows:\n",
    "            if row[-1] == dollars:\n",
    "                return True\n",
    "        \n",
    "        for row_outside in self.rows:\n",
    "            for row_inside in self.rows:\n",
    "                if row_outside[-1] + row_inside[-1] == dollars:\n",
    "                    return True\n",
    "        \n",
    "        return False\n",
    "    \n",
    "    # Runtime: O(N) where N is length of self.prices\n",
    "    def check_promotion_dollars_fast(self, dollars):\n",
    "        if dollars in self.prices:\n",
    "            return True\n",
    "        \n",
    "        for price in self.prices:\n",
    "            if (dollars - price) in self.prices:\n",
    "                return True\n",
    "        \n",
    "        return False\n",
    "    \n",
    "    def find_first_laptop_more_expensive(self, price):\n",
    "        low = 0\n",
    "        high = len(self.rows_by_price) - 1\n",
    "        \n",
    "        if self.rows_by_price[-1][-1] <= price:\n",
    "            return -1\n",
    "        \n",
    "        if self.rows_by_price[0][-1] > price:\n",
    "            return 0\n",
    "        \n",
    "        while low < high:\n",
    "            current_index = (low + high) // 2\n",
    "            current_row = self.rows_by_price[current_index]\n",
    "            current_price = current_row[-1]\n",
    "            if current_price <= price:\n",
    "                low = current_index + 1\n",
    "            elif current_price > price:\n",
    "                high = current_index\n",
    "        \n",
    "        return high\n",
    "    \n",
    "    def find_first_laptop_less_expensive(self, price):\n",
    "        low = 0\n",
    "        high = len(self.rows_by_price) - 1\n",
    "        \n",
    "        if self.rows_by_price[0][-1] >= price:\n",
    "            return -1\n",
    "        \n",
    "        if self.rows_by_price[-1][-1] < price:\n",
    "            return len(self.rows_by_price) - 1\n",
    "        \n",
    "        while low < high:\n",
    "            current_index = (low + high) // 2\n",
    "            current_row = self.rows_by_price[current_index]\n",
    "            current_price = current_row[-1]\n",
    "            if current_price < price:\n",
    "                low = current_index\n",
    "            elif current_price >= price:\n",
    "                high = current_index - 1\n",
    "                \n",
    "        return high\n",
    "    \n",
    "    # Returns a tuple (low, high)\n",
    "    # low corresponds to the index of the first laptop that is cheaper than min_price.\n",
    "    # high corresponds to the index of the first laptop that is more expensive than max_price.\n",
    "    def find_laptops_within_price_range(self, min_price, max_price):\n",
    "        low = self.find_first_laptop_less_expensive(min_price)\n",
    "        high = self.find_first_laptop_more_expensive(max_price)\n",
    "        return low, high\n",
    "    \n",
    "    # We can use the sorted laptop list so we don't have to re-sort by price.\n",
    "    def find_cheapest_laptop_ram_memory(self, ram, memory):\n",
    "        filtered_laptops = []\n",
    "        for row in self.rows_by_price:\n",
    "            current_ram = row[7]\n",
    "            current_memory = row[8]\n",
    "            if (current_ram == ram) and (current_memory == memory):\n",
    "                filtered_laptops.append(row)\n",
    "        if len(filtered_laptops) > 0:\n",
    "            return filtered_laptops[0]\n",
    "        return None\n",
    "        \n",
    "laptop_inventory = Inventory('laptops.csv')\n",
    "print(laptop_inventory.find_cheapest_laptop_ram_memory('8GB', '256GB SSD'))"
   ]
  },
  {
   "cell_type": "markdown",
   "metadata": {},
   "source": [
    "I decided to use strings as inputs for memory and hard drive so the user can specify GB, TB, and whether or not the hard drive is SSD or HDD."
   ]
  }
 ],
 "metadata": {
  "kernelspec": {
   "display_name": "Python 3",
   "language": "python",
   "name": "python3"
  },
  "language_info": {
   "codemirror_mode": {
    "name": "ipython",
    "version": 3
   },
   "file_extension": ".py",
   "mimetype": "text/x-python",
   "name": "python",
   "nbconvert_exporter": "python",
   "pygments_lexer": "ipython3",
   "version": "3.8.5"
  }
 },
 "nbformat": 4,
 "nbformat_minor": 2
}
