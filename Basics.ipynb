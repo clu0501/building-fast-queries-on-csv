{
 "cells": [
  {
   "cell_type": "markdown",
   "metadata": {},
   "source": [
    "# Building Fast Queries On a CSV"
   ]
  },
  {
   "cell_type": "markdown",
   "metadata": {},
   "source": [
    "In this project, we are given a csv containing laptop data:\n",
    "\n",
    "**ID:** A unique identifier for the laptop.  \n",
    "**Company:** The name of the company that produces the laptop.  \n",
    "**Product:** The name of the laptop.  \n",
    "**TypeName:** The type of laptop.  \n",
    "**Inches:** The size of the screen in inches.  \n",
    "**ScreenResolution:** The resolution of the screen.  \n",
    "**CPU**: The laptop CPU.  \n",
    "**RAM**: The amount of RAM in the laptop.  \n",
    "**Memory**: The size of the hard drive.  \n",
    "**GPU**: The graphics card name.  \n",
    "**OpSys**: The name of the operating system.  \n",
    "**Weight**: The laptop weight.  \n",
    "**Price**: The price of the laptop.  \n",
    "\n",
    "We want to build a way to answer certain questions about our laptop inventory in an efficient manner."
   ]
  },
  {
   "cell_type": "markdown",
   "metadata": {},
   "source": [
    "## Objectives\n",
    "1. Analyze the time and space complexity of an algorithm.\n",
    "2. Preprocesse data to significantly speed-up an algorithm.\n",
    "3. Sort data and efficiently search sorted data."
   ]
  },
  {
   "cell_type": "markdown",
   "metadata": {},
   "source": [
    "## The Dataset"
   ]
  },
  {
   "cell_type": "code",
   "execution_count": 6,
   "metadata": {},
   "outputs": [],
   "source": [
    "import csv\n",
    "import time\n",
    "import random"
   ]
  },
  {
   "cell_type": "code",
   "execution_count": 1,
   "metadata": {},
   "outputs": [
    {
     "name": "stdout",
     "output_type": "stream",
     "text": [
      "Header is: ['Id', 'Company', 'Product', 'TypeName', 'Inches', 'ScreenResolution', 'Cpu', 'Ram', 'Memory', 'Gpu', 'OpSys', 'Weight', 'Price']\n",
      "\n",
      "\n",
      "First five rows: [['6571244', 'Apple', 'MacBook Pro', 'Ultrabook', '13.3', 'IPS Panel Retina Display 2560x1600', 'Intel Core i5 2.3GHz', '8GB', '128GB SSD', 'Intel Iris Plus Graphics 640', 'macOS', '1.37kg', '1339'], ['7287764', 'Apple', 'Macbook Air', 'Ultrabook', '13.3', '1440x900', 'Intel Core i5 1.8GHz', '8GB', '128GB Flash Storage', 'Intel HD Graphics 6000', 'macOS', '1.34kg', '898'], ['3362737', 'HP', '250 G6', 'Notebook', '15.6', 'Full HD 1920x1080', 'Intel Core i5 7200U 2.5GHz', '8GB', '256GB SSD', 'Intel HD Graphics 620', 'No OS', '1.86kg', '575'], ['9722156', 'Apple', 'MacBook Pro', 'Ultrabook', '15.4', 'IPS Panel Retina Display 2880x1800', 'Intel Core i7 2.7GHz', '16GB', '512GB SSD', 'AMD Radeon Pro 455', 'macOS', '1.83kg', '2537'], ['8550527', 'Apple', 'MacBook Pro', 'Ultrabook', '13.3', 'IPS Panel Retina Display 2560x1600', 'Intel Core i5 3.1GHz', '8GB', '256GB SSD', 'Intel Iris Plus Graphics 650', 'macOS', '1.37kg', '1803']]\n"
     ]
    }
   ],
   "source": [
    "with open(\"laptops.csv\") as file:\n",
    "    file_contents = list(csv.reader(file))\n",
    "    header = file_contents[0]\n",
    "    rows = file_contents[1:]\n",
    "\n",
    "print(\"Header is:\", header)\n",
    "print(\"\\n\")\n",
    "print(\"First five rows:\", rows[:5])"
   ]
  },
  {
   "cell_type": "markdown",
   "metadata": {},
   "source": [
    "## Inventory Class"
   ]
  },
  {
   "cell_type": "code",
   "execution_count": 2,
   "metadata": {},
   "outputs": [
    {
     "name": "stdout",
     "output_type": "stream",
     "text": [
      "Laptop Inventory Header: ['Id', 'Company', 'Product', 'TypeName', 'Inches', 'ScreenResolution', 'Cpu', 'Ram', 'Memory', 'Gpu', 'OpSys', 'Weight', 'Price']\n",
      "\n",
      "\n",
      "Number of rows in Inventory: 1303\n"
     ]
    }
   ],
   "source": [
    "class Inventory():\n",
    "    def __init__(self, csv_filename):\n",
    "        with open(csv_filename) as file:\n",
    "            file_contents = list(csv.reader(file))\n",
    "            \n",
    "        self.header = file_contents[0]\n",
    "        self.rows = file_contents[1:]\n",
    "        \n",
    "        for row in self.rows:\n",
    "            row[-1] = int(row[-1])\n",
    "            \n",
    "# Testing Inventory Class\n",
    "laptop_inventory = Inventory('laptops.csv')\n",
    "print(\"Laptop Inventory Header:\", laptop_inventory.header)\n",
    "print(\"\\n\")\n",
    "print(\"Number of rows in Inventory:\", len(laptop_inventory.rows))"
   ]
  },
  {
   "cell_type": "markdown",
   "metadata": {},
   "source": [
    "## Finding a Laptop From the Id"
   ]
  },
  {
   "cell_type": "markdown",
   "metadata": {},
   "source": [
    "The first thing that we will implement is a way to look up a laptop from a given identifier. In this way, when a customer comes to our store with a purchase slip, we can quickly identify the laptop to which it corresponds."
   ]
  },
  {
   "cell_type": "code",
   "execution_count": 3,
   "metadata": {},
   "outputs": [
    {
     "name": "stdout",
     "output_type": "stream",
     "text": [
      "['3362737', 'HP', '250 G6', 'Notebook', '15.6', 'Full HD 1920x1080', 'Intel Core i5 7200U 2.5GHz', '8GB', '256GB SSD', 'Intel HD Graphics 620', 'No OS', '1.86kg', 575]\n",
      "None\n"
     ]
    }
   ],
   "source": [
    "class Inventory():\n",
    "    def __init__(self, csv_filename):\n",
    "        with open(csv_filename) as file:\n",
    "            file_contents = list(csv.reader(file))\n",
    "            \n",
    "        self.header = file_contents[0]\n",
    "        self.rows = file_contents[1:]\n",
    "        \n",
    "        for row in self.rows:\n",
    "            row[-1] = int(row[-1])\n",
    "    \n",
    "    def get_laptop_id(self, laptop_id):\n",
    "        for row in self.rows:\n",
    "            if row[0] == laptop_id:\n",
    "                return row\n",
    "        return None\n",
    "    \n",
    "# Testing get_laptop_id function\n",
    "laptop_inventory = Inventory('laptops.csv')\n",
    "print(laptop_inventory.get_laptop_id('3362737')) # This should find a laptop\n",
    "print(laptop_inventory.get_laptop_id('3362736')) # This should not find a laptop"
   ]
  },
  {
   "cell_type": "markdown",
   "metadata": {},
   "source": [
    "## Improving ID Lookups"
   ]
  },
  {
   "cell_type": "markdown",
   "metadata": {},
   "source": [
    "The idea for this optimization is to preprocess the data into a dictionary where the keys are the IDs and the values are the rows. This will give us constant time lookups in cases where we want to find a row(s) that has a certain ID.\n",
    "\n",
    "We will continue to copy and paste each iteration of the Inventory class so we can keep track of our changes."
   ]
  },
  {
   "cell_type": "code",
   "execution_count": 5,
   "metadata": {},
   "outputs": [
    {
     "name": "stdout",
     "output_type": "stream",
     "text": [
      "['3362737', 'HP', '250 G6', 'Notebook', '15.6', 'Full HD 1920x1080', 'Intel Core i5 7200U 2.5GHz', '8GB', '256GB SSD', 'Intel HD Graphics 620', 'No OS', '1.86kg', 575]\n",
      "None\n"
     ]
    }
   ],
   "source": [
    "class Inventory():\n",
    "    def __init__(self, csv_filename):\n",
    "        with open(csv_filename) as file:\n",
    "            file_contents = list(csv.reader(file))\n",
    "            \n",
    "        self.header = file_contents[0]\n",
    "        self.rows = file_contents[1:]\n",
    "        self.id_to_row = {}\n",
    "        \n",
    "        for row in self.rows:\n",
    "            row[-1] = int(row[-1])\n",
    "            self.id_to_row[row[0]] = row\n",
    "            \n",
    "    def get_laptop_id(self, laptop_id):\n",
    "        for row in self.rows:\n",
    "            if row[0] == laptop_id:\n",
    "                return row\n",
    "        return None\n",
    "    \n",
    "    def get_laptop_from_id_fast(self, laptop_id):\n",
    "        if laptop_id in self.id_to_row:\n",
    "            return self.id_to_row[laptop_id]\n",
    "        return None\n",
    "    \n",
    "# Testing get_laptop_id function\n",
    "laptop_inventory = Inventory('laptops.csv')\n",
    "print(laptop_inventory.get_laptop_from_id_fast('3362737')) # This should find a laptop\n",
    "print(laptop_inventory.get_laptop_from_id_fast('3362736')) # This should not find a laptop"
   ]
  },
  {
   "cell_type": "markdown",
   "metadata": {},
   "source": [
    "## Comparing the Performance"
   ]
  },
  {
   "cell_type": "markdown",
   "metadata": {},
   "source": [
    "Let's compare the performance of both methods. We will generate some random IDs, then use each method to lookup these same IDs."
   ]
  },
  {
   "cell_type": "code",
   "execution_count": 8,
   "metadata": {},
   "outputs": [
    {
     "name": "stdout",
     "output_type": "stream",
     "text": [
      "Total time elapsed when using get_laptop_id: 0.7592034339904785\n",
      "Total time elapsed when using get_laptop_from_id_fast: 0.002805471420288086\n"
     ]
    }
   ],
   "source": [
    "ids = [str(random.randint(1000000, 9999999)) for _ in range(10000)]\n",
    "laptop_inventory = Inventory('laptops.csv')\n",
    "total_time_no_dict = 0\n",
    "for laptop_id in ids:\n",
    "    start = time.time()\n",
    "    laptop_inventory.get_laptop_id(laptop_id)\n",
    "    end = time.time()\n",
    "    total_time_no_dict += end - start\n",
    "    \n",
    "total_time_dict = 0\n",
    "for laptop_id in ids:\n",
    "    start = time.time()\n",
    "    laptop_inventory.get_laptop_from_id_fast(laptop_id)\n",
    "    end = time.time()\n",
    "    total_time_dict += end - start\n",
    "    \n",
    "print(\"Total time elapsed when using get_laptop_id:\", total_time_no_dict)\n",
    "print(\"Total time elapsed when using get_laptop_from_id_fast:\", total_time_dict)"
   ]
  },
  {
   "cell_type": "markdown",
   "metadata": {},
   "source": [
    "As we can see above, get_laptop_from_id_fast, which uses the data preprocessed into a dictionary, is about 271 times faster!"
   ]
  },
  {
   "cell_type": "markdown",
   "metadata": {},
   "source": [
    "## Two Laptop Promotion"
   ]
  },
  {
   "cell_type": "markdown",
   "metadata": {},
   "source": [
    "Let's say that there is a promotional gift card that allows a customer to buy up to 2 laptops. The catch to this gift card is that it can only be used once. Even if the customer uses the gift card and there is money left over, the customer can no longer use the gift card.\n",
    "\n",
    "In order to make the customer feel like they are not being cheated, we want to make sure there is either one laptop that costs D (the amount of money on the gift card) dollars, or 2 laptops that add up to exactly D dollars.\n",
    "\n",
    "We will implement this function now."
   ]
  },
  {
   "cell_type": "code",
   "execution_count": null,
   "metadata": {},
   "outputs": [],
   "source": [
    "class Inventory():\n",
    "    def __init__(self, csv_filename):\n",
    "        with open(csv_filename) as file:\n",
    "            file_contents = list(csv.reader(file))\n",
    "            \n",
    "        self.header = file_contents[0]\n",
    "        self.rows = file_contents[1:]\n",
    "        self.id_to_row = {}\n",
    "        \n",
    "        for row in self.rows:\n",
    "            row[-1] = int(row[-1])\n",
    "            self.id_to_row[row[0]] = row\n",
    "            \n",
    "    def get_laptop_id(self, laptop_id):\n",
    "        for row in self.rows:\n",
    "            if row[0] == laptop_id:\n",
    "                return row\n",
    "        return None\n",
    "    \n",
    "    def get_laptop_from_id_fast(self, laptop_id):\n",
    "        if laptop_id in self.id_to_row:\n",
    "            return self.id_to_row[laptop_id]\n",
    "        return None\n",
    "    \n",
    "    def check_promotion_dollars(self, dollars):\n",
    "        for row in self.rows:\n",
    "            if row[-1] == dollars:\n",
    "                return True\n",
    "        \n",
    "        for row_outside in self.rows:\n",
    "            for row_inside in self.rows:\n",
    "                if row_outside[-1] + row_inside[-1] == dollars:\n",
    "                    return True\n",
    "        \n",
    "        return False\n",
    "    \n",
    "laptop_inventory = Inventory('laptops.csv')\n"
   ]
  }
 ],
 "metadata": {
  "kernelspec": {
   "display_name": "Python 3",
   "language": "python",
   "name": "python3"
  },
  "language_info": {
   "codemirror_mode": {
    "name": "ipython",
    "version": 3
   },
   "file_extension": ".py",
   "mimetype": "text/x-python",
   "name": "python",
   "nbconvert_exporter": "python",
   "pygments_lexer": "ipython3",
   "version": "3.8.5"
  }
 },
 "nbformat": 4,
 "nbformat_minor": 2
}
