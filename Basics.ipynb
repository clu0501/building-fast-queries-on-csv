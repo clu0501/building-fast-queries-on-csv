{
 "cells": [
  {
   "cell_type": "markdown",
   "metadata": {},
   "source": [
    "# Building Fast Queries On a CSV"
   ]
  },
  {
   "cell_type": "markdown",
   "metadata": {},
   "source": [
    "In this project, we are given a csv containing laptop data:\n",
    "\n",
    "**ID:** A unique identifier for the laptop.  \n",
    "**Company:** The name of the company that produces the laptop.  \n",
    "**Product:** The name of the laptop.  \n",
    "**TypeName:** The type of laptop.  \n",
    "**Inches:** The size of the screen in inches.  \n",
    "**ScreenResolution:** The resolution of the screen.  \n",
    "**CPU**: The laptop CPU.  \n",
    "**RAM**: The amount of RAM in the laptop.  \n",
    "**Memory**: The size of the hard drive.  \n",
    "**GPU**: The graphics card name.  \n",
    "**OpSys**: The name of the operating system.  \n",
    "**Weight**: The laptop weight.  \n",
    "**Price**: The price of the laptop.  \n",
    "\n",
    "We want to build a way to answer certain questions about our laptop inventory in an efficient manner."
   ]
  },
  {
   "cell_type": "markdown",
   "metadata": {},
   "source": [
    "## Objectives\n",
    "1. Analyze the time and space complexity of an algorithm.\n",
    "2. Preprocesse data to significantly speed-up an algorithm.\n",
    "3. Sort data and efficiently search sorted data."
   ]
  },
  {
   "cell_type": "markdown",
   "metadata": {},
   "source": [
    "## The Dataset"
   ]
  },
  {
   "cell_type": "code",
   "execution_count": 1,
   "metadata": {},
   "outputs": [],
   "source": [
    "import csv\n",
    "\n",
    "with open(\"laptops.csv\") as file:\n",
    "    file_contents = list(csv.reader(file))\n",
    "    header = file_contents[0]\n",
    "    rows = file_contents[1:]\n",
    "\n",
    "print(\"Header is:\", header)\n",
    "print(\"\\n\")\n",
    "print(\"First five rows:\", rows[:5])"
   ]
  },
  {
   "cell_type": "markdown",
   "metadata": {},
   "source": [
    "## Inventory Class"
   ]
  },
  {
   "cell_type": "code",
   "execution_count": 2,
   "metadata": {},
   "outputs": [],
   "source": [
    "class Inventory():\n",
    "    def __init__(self, csv_filename):\n",
    "        with open(csv_filename) as file:\n",
    "            file_contents = list(csv.reader(file))\n",
    "            \n",
    "        self.header = file_contents[0]\n",
    "        self.rows = file_contents[1:]\n",
    "        \n",
    "        for row in self.rows:\n",
    "            row[-1] = int(row[-1])\n",
    "            \n",
    "# Testing Inventory Class\n",
    "laptop_inventory = Inventory('laptops.csv')\n",
    "print(\"Laptop Inventory Header:\", laptop_inventory.header)\n",
    "print(\"\\n\")\n",
    "print(\"Number of rows in Inventory:\", len(laptop_inventory.rows))"
   ]
  },
  {
   "cell_type": "code",
   "execution_count": null,
   "metadata": {},
   "outputs": [],
   "source": []
  }
 ],
 "metadata": {
  "kernelspec": {
   "display_name": "Python 3",
   "language": "python",
   "name": "python3"
  },
  "language_info": {
   "codemirror_mode": {
    "name": "ipython",
    "version": 3
   },
   "file_extension": ".py",
   "mimetype": "text/x-python",
   "name": "python",
   "nbconvert_exporter": "python",
   "pygments_lexer": "ipython3",
   "version": "3.8.5"
  }
 },
 "nbformat": 4,
 "nbformat_minor": 2
}
